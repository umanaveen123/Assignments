{
 "cells": [
  {
   "cell_type": "code",
   "execution_count": 9,
   "id": "405c7e3d",
   "metadata": {
    "ExecuteTime": {
     "end_time": "2023-03-23T13:41:12.309103Z",
     "start_time": "2023-03-23T13:41:12.297063Z"
    }
   },
   "outputs": [],
   "source": [
    "import pandas as pd \n",
    "import numpy as np\n",
    "from scipy import stats\n",
    "import scipy "
   ]
  },
  {
   "cell_type": "code",
   "execution_count": 4,
   "id": "237d6d53",
   "metadata": {
    "ExecuteTime": {
     "end_time": "2023-03-23T13:25:57.948344Z",
     "start_time": "2023-03-23T13:25:57.914079Z"
    }
   },
   "outputs": [
    {
     "data": {
      "text/html": [
       "<div>\n",
       "<style scoped>\n",
       "    .dataframe tbody tr th:only-of-type {\n",
       "        vertical-align: middle;\n",
       "    }\n",
       "\n",
       "    .dataframe tbody tr th {\n",
       "        vertical-align: top;\n",
       "    }\n",
       "\n",
       "    .dataframe thead th {\n",
       "        text-align: right;\n",
       "    }\n",
       "</style>\n",
       "<table border=\"1\" class=\"dataframe\">\n",
       "  <thead>\n",
       "    <tr style=\"text-align: right;\">\n",
       "      <th></th>\n",
       "      <th>Observed Values</th>\n",
       "      <th>East</th>\n",
       "      <th>West</th>\n",
       "      <th>North</th>\n",
       "      <th>South</th>\n",
       "    </tr>\n",
       "  </thead>\n",
       "  <tbody>\n",
       "    <tr>\n",
       "      <th>0</th>\n",
       "      <td>Males</td>\n",
       "      <td>50</td>\n",
       "      <td>142</td>\n",
       "      <td>131</td>\n",
       "      <td>70</td>\n",
       "    </tr>\n",
       "    <tr>\n",
       "      <th>1</th>\n",
       "      <td>Females</td>\n",
       "      <td>435</td>\n",
       "      <td>1523</td>\n",
       "      <td>1356</td>\n",
       "      <td>750</td>\n",
       "    </tr>\n",
       "  </tbody>\n",
       "</table>\n",
       "</div>"
      ],
      "text/plain": [
       "  Observed Values  East  West  North  South\n",
       "0           Males    50   142    131     70\n",
       "1         Females   435  1523   1356    750"
      ]
     },
     "execution_count": 4,
     "metadata": {},
     "output_type": "execute_result"
    }
   ],
   "source": [
    "Buyer_Ratio = pd.read_csv(\"BuyerRatio.csv\")\n",
    "Buyer_Ratio"
   ]
  },
  {
   "cell_type": "code",
   "execution_count": 15,
   "id": "85418dac",
   "metadata": {
    "ExecuteTime": {
     "end_time": "2023-03-23T13:46:47.494909Z",
     "start_time": "2023-03-23T13:46:47.479686Z"
    }
   },
   "outputs": [],
   "source": [
    "br_df = Buyer_Ratio.iloc[:,1:]"
   ]
  },
  {
   "cell_type": "code",
   "execution_count": 17,
   "id": "f8d0a64b",
   "metadata": {
    "ExecuteTime": {
     "end_time": "2023-03-23T13:47:12.833870Z",
     "start_time": "2023-03-23T13:47:12.803299Z"
    }
   },
   "outputs": [
    {
     "name": "stdout",
     "output_type": "stream",
     "text": [
      "1.595945538661058 \n",
      " 0.6603094907091882 \n",
      " 3 \n",
      " [[  42.76531299  146.81287862  131.11756787   72.30424052]\n",
      " [ 442.23468701 1518.18712138 1355.88243213  747.69575948]]\n"
     ]
    }
   ],
   "source": [
    "# Applying Chi-Square  contingency table to convert observed value into expected value\n",
    "stat, p, dof, exp = stats.chi2_contingency(br_df)\n",
    "print(stat,\"\\n\", p,\"\\n\", dof,\"\\n\", exp)"
   ]
  },
  {
   "cell_type": "markdown",
   "id": "71820dd3",
   "metadata": {},
   "source": [
    "In  the above Chi-Square method, pvalue is greater than Significance value so we fail to reject the Hypothesis null Therefore, there is no association or dependency between male-female buyers ratios and they are similar across regions.\n",
    "\n"
   ]
  },
  {
   "cell_type": "code",
   "execution_count": null,
   "id": "d95bae7d",
   "metadata": {},
   "outputs": [],
   "source": []
  }
 ],
 "metadata": {
  "kernelspec": {
   "display_name": "Python 3 (ipykernel)",
   "language": "python",
   "name": "python3"
  },
  "language_info": {
   "codemirror_mode": {
    "name": "ipython",
    "version": 3
   },
   "file_extension": ".py",
   "mimetype": "text/x-python",
   "name": "python",
   "nbconvert_exporter": "python",
   "pygments_lexer": "ipython3",
   "version": "3.9.12"
  }
 },
 "nbformat": 4,
 "nbformat_minor": 5
}
