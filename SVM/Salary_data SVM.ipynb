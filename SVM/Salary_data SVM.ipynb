{
 "cells": [
  {
   "cell_type": "code",
   "execution_count": 15,
   "metadata": {
    "ExecuteTime": {
     "end_time": "2023-04-26T08:41:54.664173Z",
     "start_time": "2023-04-26T08:41:54.649468Z"
    },
    "id": "tKgGZlW2DPGO"
   },
   "outputs": [],
   "source": [
    "# SVM Classification\n",
    "import pandas as pd\n",
    "import numpy as np\n",
    "from sklearn import preprocessing\n",
    "from sklearn.preprocessing import StandardScaler\n",
    "from sklearn import svm\n",
    "from sklearn.svm import SVC\n",
    "from sklearn.model_selection import GridSearchCV\n",
    "from sklearn.metrics import classification_report\n",
    "\n",
    "\n",
    "from sklearn.metrics import accuracy_score, confusion_matrix\n",
    "from sklearn.model_selection import train_test_split, cross_val_score\n",
    "\n"
   ]
  },
  {
   "cell_type": "code",
   "execution_count": 13,
   "metadata": {
    "ExecuteTime": {
     "end_time": "2023-04-26T08:40:54.815069Z",
     "start_time": "2023-04-26T08:40:54.635928Z"
    },
    "id": "riKEX25pDPGR"
   },
   "outputs": [],
   "source": [
    "sal_train = pd.read_csv(\"SalaryData_Train.csv\")\n",
    "sal_test=pd.read_csv(\"SalaryData_Test.csv\")\n",
    "sal_train.columns\n",
    "sal_test.columns\n",
    "string_col=['workclass','education','maritalstatus','occupation','relationship','race','sex','native']"
   ]
  },
  {
   "cell_type": "code",
   "execution_count": 16,
   "metadata": {
    "ExecuteTime": {
     "end_time": "2023-04-26T08:41:58.809987Z",
     "start_time": "2023-04-26T08:41:58.627080Z"
    }
   },
   "outputs": [],
   "source": [
    "label_encoder = preprocessing.LabelEncoder()\n",
    "for i in string_col:\n",
    "    sal_train[i]=label_encoder.fit_transform(sal_train[i])\n",
    "    sal_test[i]=label_encoder.fit_transform(sal_test[i])"
   ]
  },
  {
   "cell_type": "code",
   "execution_count": 17,
   "metadata": {
    "ExecuteTime": {
     "end_time": "2023-04-26T08:43:05.906972Z",
     "start_time": "2023-04-26T08:43:05.842957Z"
    },
    "id": "D5pHWvN9DPGT"
   },
   "outputs": [],
   "source": [
    "columns=list(sal_train.columns)\n",
    "train_x=sal_train.iloc[0:500,0:13]\n",
    "train_y=sal_train.iloc[0:500,13]\n",
    "test_x=sal_test.iloc[0:300,0:13]\n",
    "test_y=sal_test.iloc[0:300,13]"
   ]
  },
  {
   "cell_type": "markdown",
   "metadata": {
    "ExecuteTime": {
     "end_time": "2023-04-26T08:33:24.545142Z",
     "start_time": "2023-04-26T08:33:24.513217Z"
    },
    "colab": {
     "base_uri": "https://localhost:8080/"
    },
    "id": "eD5H2CSxDPGU",
    "outputId": "0eaed5dd-bb48-4ae4-e70d-0a199c178c20"
   },
   "source": [
    "## SVM Classification using kernels: Linear,poly,rbf\n"
   ]
  },
  {
   "cell_type": "markdown",
   "metadata": {
    "id": "KKIwtz4EDPGW"
   },
   "source": [
    "### Using Kernel as linear type\n"
   ]
  },
  {
   "cell_type": "code",
   "execution_count": 18,
   "metadata": {
    "ExecuteTime": {
     "end_time": "2023-04-26T08:48:46.896674Z",
     "start_time": "2023-04-26T08:44:56.366519Z"
    },
    "colab": {
     "base_uri": "https://localhost:8080/"
    },
    "id": "lh3ywRgVDPGX",
    "outputId": "7db919e1-72ec-4122-b54c-9d9807cd7793"
   },
   "outputs": [],
   "source": [
    "model_linear=SVC(kernel='linear')\n",
    "model_linear.fit(train_x,train_y)\n",
    "train_pred_lin=model_linear.predict(train_x)\n",
    "test_pred_lin=model_linear.predict(test_x)\n",
    "train_lin_acc=np.mean(train_pred_lin==train_y)\n",
    "test_lin_acc=np.mean(test_pred_lin==test_y)"
   ]
  },
  {
   "cell_type": "code",
   "execution_count": 19,
   "metadata": {
    "ExecuteTime": {
     "end_time": "2023-04-26T08:48:46.928602Z",
     "start_time": "2023-04-26T08:48:46.896674Z"
    },
    "colab": {
     "base_uri": "https://localhost:8080/"
    },
    "id": "2Rvkx8g2DPGY",
    "outputId": "11d7284d-8451-4353-9630-a30a414536a4"
   },
   "outputs": [
    {
     "data": {
      "text/plain": [
       "0.8166666666666667"
      ]
     },
     "execution_count": 19,
     "metadata": {},
     "output_type": "execute_result"
    }
   ],
   "source": [
    "train_lin_acc\n",
    "test_lin_acc"
   ]
  },
  {
   "cell_type": "markdown",
   "metadata": {},
   "source": [
    "### Using Kernal as rbf"
   ]
  },
  {
   "cell_type": "code",
   "execution_count": 20,
   "metadata": {
    "ExecuteTime": {
     "end_time": "2023-04-26T08:49:21.312578Z",
     "start_time": "2023-04-26T08:49:21.211043Z"
    },
    "colab": {
     "base_uri": "https://localhost:8080/"
    },
    "id": "MONtSprJDPGa",
    "outputId": "03dbee45-e8a1-493c-ba68-7d2892c31c57"
   },
   "outputs": [],
   "source": [
    "model_rbf=SVC(kernel='rbf')\n",
    "model_rbf.fit(train_x,train_y)\n",
    "train_pred_rbf=model_rbf.predict(train_x)\n",
    "test_pred_rbf=model_rbf.predict(test_x)\n",
    "train_rbf_acc=np.mean(train_pred_rbf==train_y)\n",
    "test_rbf_acc=np.mean(test_pred_rbf==test_y)"
   ]
  },
  {
   "cell_type": "code",
   "execution_count": 21,
   "metadata": {
    "ExecuteTime": {
     "end_time": "2023-04-26T08:50:00.162609Z",
     "start_time": "2023-04-26T08:50:00.149519Z"
    }
   },
   "outputs": [
    {
     "data": {
      "text/plain": [
       "0.8033333333333333"
      ]
     },
     "execution_count": 21,
     "metadata": {},
     "output_type": "execute_result"
    }
   ],
   "source": [
    "train_rbf_acc\n",
    "test_rbf_acc"
   ]
  },
  {
   "cell_type": "markdown",
   "metadata": {},
   "source": [
    "### Using Kernal as ploy"
   ]
  },
  {
   "cell_type": "code",
   "execution_count": 24,
   "metadata": {
    "ExecuteTime": {
     "end_time": "2023-04-26T08:51:48.888175Z",
     "start_time": "2023-04-26T08:51:48.840606Z"
    },
    "colab": {
     "base_uri": "https://localhost:8080/"
    },
    "id": "rk4MFIdmDPGc",
    "outputId": "4553fa7a-f578-4bf6-ce60-e5949ad2b4c3"
   },
   "outputs": [],
   "source": [
    "model_poly=SVC(kernel='poly')\n",
    "model_poly.fit(train_x,train_y)\n",
    "train_pred_poly=model_poly.predict(train_x)\n",
    "test_pred_poly=model_poly.predict(test_x)\n",
    "train_poly_acc=np.mean(train_pred_poly==train_y)\n",
    "test_poly_acc=np.mean(test_pred_poly==test_y)"
   ]
  },
  {
   "cell_type": "code",
   "execution_count": 25,
   "metadata": {
    "ExecuteTime": {
     "end_time": "2023-04-26T08:52:41.132534Z",
     "start_time": "2023-04-26T08:52:41.124023Z"
    },
    "id": "IUEXrWq4ga8x"
   },
   "outputs": [
    {
     "data": {
      "text/plain": [
       "0.8033333333333333"
      ]
     },
     "execution_count": 25,
     "metadata": {},
     "output_type": "execute_result"
    }
   ],
   "source": [
    "train_poly_acc\n",
    "test_poly_acc"
   ]
  },
  {
   "cell_type": "code",
   "execution_count": null,
   "metadata": {},
   "outputs": [],
   "source": []
  }
 ],
 "metadata": {
  "accelerator": "GPU",
  "colab": {
   "name": "SVM _main.ipynb",
   "provenance": []
  },
  "kernelspec": {
   "display_name": "Python 3 (ipykernel)",
   "language": "python",
   "name": "python3"
  },
  "language_info": {
   "codemirror_mode": {
    "name": "ipython",
    "version": 3
   },
   "file_extension": ".py",
   "mimetype": "text/x-python",
   "name": "python",
   "nbconvert_exporter": "python",
   "pygments_lexer": "ipython3",
   "version": "3.9.12"
  },
  "varInspector": {
   "cols": {
    "lenName": 16,
    "lenType": 16,
    "lenVar": 40
   },
   "kernels_config": {
    "python": {
     "delete_cmd_postfix": "",
     "delete_cmd_prefix": "del ",
     "library": "var_list.py",
     "varRefreshCmd": "print(var_dic_list())"
    },
    "r": {
     "delete_cmd_postfix": ") ",
     "delete_cmd_prefix": "rm(",
     "library": "var_list.r",
     "varRefreshCmd": "cat(var_dic_list()) "
    }
   },
   "types_to_exclude": [
    "module",
    "function",
    "builtin_function_or_method",
    "instance",
    "_Feature"
   ],
   "window_display": false
  }
 },
 "nbformat": 4,
 "nbformat_minor": 1
}
