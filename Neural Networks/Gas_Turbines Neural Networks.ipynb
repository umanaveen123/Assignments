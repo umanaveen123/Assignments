{
 "cells": [
  {
   "cell_type": "code",
   "execution_count": 1,
   "id": "53149006",
   "metadata": {
    "ExecuteTime": {
     "end_time": "2023-04-26T04:43:57.296925Z",
     "start_time": "2023-04-26T04:43:21.665838Z"
    }
   },
   "outputs": [
    {
     "name": "stdout",
     "output_type": "stream",
     "text": [
      "Requirement already satisfied: keras in c:\\users\\umana\\anaconda3\\lib\\site-packages (2.10.0)\n"
     ]
    }
   ],
   "source": [
    "!pip install keras"
   ]
  },
  {
   "cell_type": "code",
   "execution_count": 5,
   "id": "4411c642",
   "metadata": {
    "ExecuteTime": {
     "end_time": "2023-04-26T04:47:30.138764Z",
     "start_time": "2023-04-26T04:47:11.857800Z"
    }
   },
   "outputs": [],
   "source": [
    "import pandas as pd\n",
    "import numpy as np\n",
    "import matplotlib.pyplot as plt\n",
    "from keras.models import Sequential\n",
    "from keras.layers import Dense\n",
    "from sklearn.metrics import mean_squared_error"
   ]
  },
  {
   "cell_type": "code",
   "execution_count": 6,
   "id": "10965293",
   "metadata": {
    "ExecuteTime": {
     "end_time": "2023-04-26T04:47:42.294966Z",
     "start_time": "2023-04-26T04:47:41.927796Z"
    }
   },
   "outputs": [
    {
     "data": {
      "text/html": [
       "<div>\n",
       "<style scoped>\n",
       "    .dataframe tbody tr th:only-of-type {\n",
       "        vertical-align: middle;\n",
       "    }\n",
       "\n",
       "    .dataframe tbody tr th {\n",
       "        vertical-align: top;\n",
       "    }\n",
       "\n",
       "    .dataframe thead th {\n",
       "        text-align: right;\n",
       "    }\n",
       "</style>\n",
       "<table border=\"1\" class=\"dataframe\">\n",
       "  <thead>\n",
       "    <tr style=\"text-align: right;\">\n",
       "      <th></th>\n",
       "      <th>AT</th>\n",
       "      <th>AP</th>\n",
       "      <th>AH</th>\n",
       "      <th>AFDP</th>\n",
       "      <th>GTEP</th>\n",
       "      <th>TIT</th>\n",
       "      <th>TAT</th>\n",
       "      <th>TEY</th>\n",
       "      <th>CDP</th>\n",
       "      <th>CO</th>\n",
       "      <th>NOX</th>\n",
       "    </tr>\n",
       "  </thead>\n",
       "  <tbody>\n",
       "    <tr>\n",
       "      <th>0</th>\n",
       "      <td>6.8594</td>\n",
       "      <td>1007.9</td>\n",
       "      <td>96.799</td>\n",
       "      <td>3.5000</td>\n",
       "      <td>19.663</td>\n",
       "      <td>1059.2</td>\n",
       "      <td>550.00</td>\n",
       "      <td>114.70</td>\n",
       "      <td>10.605</td>\n",
       "      <td>3.1547</td>\n",
       "      <td>82.722</td>\n",
       "    </tr>\n",
       "    <tr>\n",
       "      <th>1</th>\n",
       "      <td>6.7850</td>\n",
       "      <td>1008.4</td>\n",
       "      <td>97.118</td>\n",
       "      <td>3.4998</td>\n",
       "      <td>19.728</td>\n",
       "      <td>1059.3</td>\n",
       "      <td>550.00</td>\n",
       "      <td>114.72</td>\n",
       "      <td>10.598</td>\n",
       "      <td>3.2363</td>\n",
       "      <td>82.776</td>\n",
       "    </tr>\n",
       "    <tr>\n",
       "      <th>2</th>\n",
       "      <td>6.8977</td>\n",
       "      <td>1008.8</td>\n",
       "      <td>95.939</td>\n",
       "      <td>3.4824</td>\n",
       "      <td>19.779</td>\n",
       "      <td>1059.4</td>\n",
       "      <td>549.87</td>\n",
       "      <td>114.71</td>\n",
       "      <td>10.601</td>\n",
       "      <td>3.2012</td>\n",
       "      <td>82.468</td>\n",
       "    </tr>\n",
       "    <tr>\n",
       "      <th>3</th>\n",
       "      <td>7.0569</td>\n",
       "      <td>1009.2</td>\n",
       "      <td>95.249</td>\n",
       "      <td>3.4805</td>\n",
       "      <td>19.792</td>\n",
       "      <td>1059.6</td>\n",
       "      <td>549.99</td>\n",
       "      <td>114.72</td>\n",
       "      <td>10.606</td>\n",
       "      <td>3.1923</td>\n",
       "      <td>82.670</td>\n",
       "    </tr>\n",
       "    <tr>\n",
       "      <th>4</th>\n",
       "      <td>7.3978</td>\n",
       "      <td>1009.7</td>\n",
       "      <td>95.150</td>\n",
       "      <td>3.4976</td>\n",
       "      <td>19.765</td>\n",
       "      <td>1059.7</td>\n",
       "      <td>549.98</td>\n",
       "      <td>114.72</td>\n",
       "      <td>10.612</td>\n",
       "      <td>3.2484</td>\n",
       "      <td>82.311</td>\n",
       "    </tr>\n",
       "    <tr>\n",
       "      <th>...</th>\n",
       "      <td>...</td>\n",
       "      <td>...</td>\n",
       "      <td>...</td>\n",
       "      <td>...</td>\n",
       "      <td>...</td>\n",
       "      <td>...</td>\n",
       "      <td>...</td>\n",
       "      <td>...</td>\n",
       "      <td>...</td>\n",
       "      <td>...</td>\n",
       "      <td>...</td>\n",
       "    </tr>\n",
       "    <tr>\n",
       "      <th>15034</th>\n",
       "      <td>9.0301</td>\n",
       "      <td>1005.6</td>\n",
       "      <td>98.460</td>\n",
       "      <td>3.5421</td>\n",
       "      <td>19.164</td>\n",
       "      <td>1049.7</td>\n",
       "      <td>546.21</td>\n",
       "      <td>111.61</td>\n",
       "      <td>10.400</td>\n",
       "      <td>4.5186</td>\n",
       "      <td>79.559</td>\n",
       "    </tr>\n",
       "    <tr>\n",
       "      <th>15035</th>\n",
       "      <td>7.8879</td>\n",
       "      <td>1005.9</td>\n",
       "      <td>99.093</td>\n",
       "      <td>3.5059</td>\n",
       "      <td>19.414</td>\n",
       "      <td>1046.3</td>\n",
       "      <td>543.22</td>\n",
       "      <td>111.78</td>\n",
       "      <td>10.433</td>\n",
       "      <td>4.8470</td>\n",
       "      <td>79.917</td>\n",
       "    </tr>\n",
       "    <tr>\n",
       "      <th>15036</th>\n",
       "      <td>7.2647</td>\n",
       "      <td>1006.3</td>\n",
       "      <td>99.496</td>\n",
       "      <td>3.4770</td>\n",
       "      <td>19.530</td>\n",
       "      <td>1037.7</td>\n",
       "      <td>537.32</td>\n",
       "      <td>110.19</td>\n",
       "      <td>10.483</td>\n",
       "      <td>7.9632</td>\n",
       "      <td>90.912</td>\n",
       "    </tr>\n",
       "    <tr>\n",
       "      <th>15037</th>\n",
       "      <td>7.0060</td>\n",
       "      <td>1006.8</td>\n",
       "      <td>99.008</td>\n",
       "      <td>3.4486</td>\n",
       "      <td>19.377</td>\n",
       "      <td>1043.2</td>\n",
       "      <td>541.24</td>\n",
       "      <td>110.74</td>\n",
       "      <td>10.533</td>\n",
       "      <td>6.2494</td>\n",
       "      <td>93.227</td>\n",
       "    </tr>\n",
       "    <tr>\n",
       "      <th>15038</th>\n",
       "      <td>6.9279</td>\n",
       "      <td>1007.2</td>\n",
       "      <td>97.533</td>\n",
       "      <td>3.4275</td>\n",
       "      <td>19.306</td>\n",
       "      <td>1049.9</td>\n",
       "      <td>545.85</td>\n",
       "      <td>111.58</td>\n",
       "      <td>10.583</td>\n",
       "      <td>4.9816</td>\n",
       "      <td>92.498</td>\n",
       "    </tr>\n",
       "  </tbody>\n",
       "</table>\n",
       "<p>15039 rows × 11 columns</p>\n",
       "</div>"
      ],
      "text/plain": [
       "           AT      AP      AH    AFDP    GTEP     TIT     TAT     TEY     CDP      CO     NOX\n",
       "0      6.8594  1007.9  96.799  3.5000  19.663  1059.2  550.00  114.70  10.605  3.1547  82.722\n",
       "1      6.7850  1008.4  97.118  3.4998  19.728  1059.3  550.00  114.72  10.598  3.2363  82.776\n",
       "2      6.8977  1008.8  95.939  3.4824  19.779  1059.4  549.87  114.71  10.601  3.2012  82.468\n",
       "3      7.0569  1009.2  95.249  3.4805  19.792  1059.6  549.99  114.72  10.606  3.1923  82.670\n",
       "4      7.3978  1009.7  95.150  3.4976  19.765  1059.7  549.98  114.72  10.612  3.2484  82.311\n",
       "...       ...     ...     ...     ...     ...     ...     ...     ...     ...     ...     ...\n",
       "15034  9.0301  1005.6  98.460  3.5421  19.164  1049.7  546.21  111.61  10.400  4.5186  79.559\n",
       "15035  7.8879  1005.9  99.093  3.5059  19.414  1046.3  543.22  111.78  10.433  4.8470  79.917\n",
       "15036  7.2647  1006.3  99.496  3.4770  19.530  1037.7  537.32  110.19  10.483  7.9632  90.912\n",
       "15037  7.0060  1006.8  99.008  3.4486  19.377  1043.2  541.24  110.74  10.533  6.2494  93.227\n",
       "15038  6.9279  1007.2  97.533  3.4275  19.306  1049.9  545.85  111.58  10.583  4.9816  92.498\n",
       "\n",
       "[15039 rows x 11 columns]"
      ]
     },
     "execution_count": 6,
     "metadata": {},
     "output_type": "execute_result"
    }
   ],
   "source": [
    "gas_turbines=pd.read_csv(\"gas_turbines.csv\")\n",
    "gas_turbines"
   ]
  },
  {
   "cell_type": "code",
   "execution_count": 7,
   "id": "f079082b",
   "metadata": {
    "ExecuteTime": {
     "end_time": "2023-04-26T04:48:21.900533Z",
     "start_time": "2023-04-26T04:48:21.699588Z"
    }
   },
   "outputs": [
    {
     "data": {
      "text/plain": [
       "(0, 11)"
      ]
     },
     "execution_count": 7,
     "metadata": {},
     "output_type": "execute_result"
    }
   ],
   "source": [
    "gas_turbines[gas_turbines.duplicated()].shape\n"
   ]
  },
  {
   "cell_type": "code",
   "execution_count": 8,
   "id": "aad28e71",
   "metadata": {
    "ExecuteTime": {
     "end_time": "2023-04-26T04:48:30.234467Z",
     "start_time": "2023-04-26T04:48:30.137050Z"
    }
   },
   "outputs": [
    {
     "name": "stdout",
     "output_type": "stream",
     "text": [
      "<class 'pandas.core.frame.DataFrame'>\n",
      "RangeIndex: 15039 entries, 0 to 15038\n",
      "Data columns (total 11 columns):\n",
      " #   Column  Non-Null Count  Dtype  \n",
      "---  ------  --------------  -----  \n",
      " 0   AT      15039 non-null  float64\n",
      " 1   AP      15039 non-null  float64\n",
      " 2   AH      15039 non-null  float64\n",
      " 3   AFDP    15039 non-null  float64\n",
      " 4   GTEP    15039 non-null  float64\n",
      " 5   TIT     15039 non-null  float64\n",
      " 6   TAT     15039 non-null  float64\n",
      " 7   TEY     15039 non-null  float64\n",
      " 8   CDP     15039 non-null  float64\n",
      " 9   CO      15039 non-null  float64\n",
      " 10  NOX     15039 non-null  float64\n",
      "dtypes: float64(11)\n",
      "memory usage: 1.3 MB\n"
     ]
    }
   ],
   "source": [
    "gas_turbines.info()\n"
   ]
  },
  {
   "cell_type": "code",
   "execution_count": 9,
   "id": "a415a23e",
   "metadata": {
    "ExecuteTime": {
     "end_time": "2023-04-26T04:48:44.399384Z",
     "start_time": "2023-04-26T04:48:44.378499Z"
    }
   },
   "outputs": [
    {
     "data": {
      "text/plain": [
       "AT      0\n",
       "AP      0\n",
       "AH      0\n",
       "AFDP    0\n",
       "GTEP    0\n",
       "TIT     0\n",
       "TAT     0\n",
       "TEY     0\n",
       "CDP     0\n",
       "CO      0\n",
       "NOX     0\n",
       "dtype: int64"
      ]
     },
     "execution_count": 9,
     "metadata": {},
     "output_type": "execute_result"
    }
   ],
   "source": [
    "gas_turbines.isnull().sum()\n"
   ]
  },
  {
   "cell_type": "code",
   "execution_count": 10,
   "id": "65d116d3",
   "metadata": {
    "ExecuteTime": {
     "end_time": "2023-04-26T04:52:01.056457Z",
     "start_time": "2023-04-26T04:52:01.040946Z"
    }
   },
   "outputs": [],
   "source": [
    "X = gas_turbines.loc[:,['AT', 'AP', 'AH', 'AFDP', 'GTEP', 'TIT', 'TAT', 'CDP', 'CO','NOX']]\n",
    "y= gas_turbines.loc[:,['TEY']]"
   ]
  },
  {
   "cell_type": "code",
   "execution_count": 11,
   "id": "eabc23ee",
   "metadata": {
    "ExecuteTime": {
     "end_time": "2023-04-26T04:52:38.970095Z",
     "start_time": "2023-04-26T04:52:38.932689Z"
    }
   },
   "outputs": [],
   "source": [
    "from sklearn.preprocessing import StandardScaler\n",
    "scaler=StandardScaler()\n",
    "X=scaler.fit_transform(X)\n",
    "y=scaler.fit_transform(y)"
   ]
  },
  {
   "cell_type": "code",
   "execution_count": 14,
   "id": "d669ede9",
   "metadata": {
    "ExecuteTime": {
     "end_time": "2023-04-26T04:54:05.925067Z",
     "start_time": "2023-04-26T04:54:05.462615Z"
    }
   },
   "outputs": [
    {
     "data": {
      "text/plain": [
       "array([[ 0.82623246, -0.43954308, -0.25924569, ...,  0.10039242,\n",
       "        -0.3796304 , -0.69217007],\n",
       "       [ 0.35282087,  0.23279782,  0.80230139, ..., -1.18541222,\n",
       "         0.39149515, -1.09475442],\n",
       "       [ 0.32839008, -0.07135639,  0.25312287, ...,  0.01665304,\n",
       "        -0.00296896, -0.31891741],\n",
       "       ...,\n",
       "       [-0.74071701,  0.37687087,  0.43427425, ...,  1.77157829,\n",
       "        -1.00127821, -0.4818816 ],\n",
       "       [-0.49965786, -0.39151873,  0.64680105, ..., -0.26517949,\n",
       "        -0.48137538,  0.12808615],\n",
       "       [ 0.13151427,  0.32884652,  0.98830762, ..., -1.40331469,\n",
       "         0.13152215, -0.64456466]])"
      ]
     },
     "execution_count": 14,
     "metadata": {},
     "output_type": "execute_result"
    }
   ],
   "source": [
    "from sklearn.preprocessing import scale\n",
    "from sklearn.model_selection import train_test_split\n",
    "X_train, X_test, y_train, y_test = train_test_split(X, y, test_size = 0.1, random_state = 42)\n",
    "X_train_scaled = scale(X_train)\n",
    "X_test_scaled = scale(X_test)\n",
    "X_test_scaled\n"
   ]
  },
  {
   "cell_type": "code",
   "execution_count": 15,
   "id": "97abb4a2",
   "metadata": {
    "ExecuteTime": {
     "end_time": "2023-04-26T04:54:40.920878Z",
     "start_time": "2023-04-26T04:54:39.122294Z"
    }
   },
   "outputs": [],
   "source": [
    "#Define the keras model\n",
    "model=Sequential()\n",
    "model.add(Dense(12,input_dim=10,activation='relu'))\n",
    "model.add(Dense(8,activation='relu'))\n",
    "model.add(Dense(1,activation='sigmoid'))"
   ]
  },
  {
   "cell_type": "code",
   "execution_count": 16,
   "id": "ef484157",
   "metadata": {
    "ExecuteTime": {
     "end_time": "2023-04-26T04:55:42.404859Z",
     "start_time": "2023-04-26T04:55:42.351305Z"
    }
   },
   "outputs": [],
   "source": [
    "#complile the model\n",
    "model.compile(loss='mean_squared_error',optimizer='adam',metrics = ['MeanSquaredError'])\n"
   ]
  },
  {
   "cell_type": "code",
   "execution_count": 17,
   "id": "19d0bcff",
   "metadata": {
    "ExecuteTime": {
     "end_time": "2023-04-26T05:03:47.869213Z",
     "start_time": "2023-04-26T04:56:03.258643Z"
    }
   },
   "outputs": [
    {
     "name": "stdout",
     "output_type": "stream",
     "text": [
      "Epoch 1/150\n",
      "1219/1219 [==============================] - 7s 4ms/step - loss: 0.5991 - mean_squared_error: 0.5991 - val_loss: 0.5434 - val_mean_squared_error: 0.5434\n",
      "Epoch 2/150\n",
      "1219/1219 [==============================] - 4s 3ms/step - loss: 0.5618 - mean_squared_error: 0.5618 - val_loss: 0.5423 - val_mean_squared_error: 0.5423\n",
      "Epoch 3/150\n",
      "1219/1219 [==============================] - 3s 2ms/step - loss: 0.5610 - mean_squared_error: 0.5610 - val_loss: 0.5417 - val_mean_squared_error: 0.5417\n",
      "Epoch 4/150\n",
      "1219/1219 [==============================] - 3s 2ms/step - loss: 0.5606 - mean_squared_error: 0.5606 - val_loss: 0.5415 - val_mean_squared_error: 0.5415\n",
      "Epoch 5/150\n",
      "1219/1219 [==============================] - 3s 2ms/step - loss: 0.5603 - mean_squared_error: 0.5603 - val_loss: 0.5412 - val_mean_squared_error: 0.5412\n",
      "Epoch 6/150\n",
      "1219/1219 [==============================] - 3s 2ms/step - loss: 0.5601 - mean_squared_error: 0.5601 - val_loss: 0.5409 - val_mean_squared_error: 0.5409\n",
      "Epoch 7/150\n",
      "1219/1219 [==============================] - 3s 2ms/step - loss: 0.5600 - mean_squared_error: 0.5600 - val_loss: 0.5410 - val_mean_squared_error: 0.5410\n",
      "Epoch 8/150\n",
      "1219/1219 [==============================] - 3s 2ms/step - loss: 0.5599 - mean_squared_error: 0.5599 - val_loss: 0.5407 - val_mean_squared_error: 0.5407\n",
      "Epoch 9/150\n",
      "1219/1219 [==============================] - 3s 2ms/step - loss: 0.5597 - mean_squared_error: 0.5597 - val_loss: 0.5406 - val_mean_squared_error: 0.5406\n",
      "Epoch 10/150\n",
      "1219/1219 [==============================] - 3s 2ms/step - loss: 0.5596 - mean_squared_error: 0.5596 - val_loss: 0.5406 - val_mean_squared_error: 0.5406\n",
      "Epoch 11/150\n",
      "1219/1219 [==============================] - 3s 2ms/step - loss: 0.5596 - mean_squared_error: 0.5596 - val_loss: 0.5405 - val_mean_squared_error: 0.5405\n",
      "Epoch 12/150\n",
      "1219/1219 [==============================] - 3s 2ms/step - loss: 0.5595 - mean_squared_error: 0.5595 - val_loss: 0.5405 - val_mean_squared_error: 0.5405\n",
      "Epoch 13/150\n",
      "1219/1219 [==============================] - 3s 2ms/step - loss: 0.5594 - mean_squared_error: 0.5594 - val_loss: 0.5403 - val_mean_squared_error: 0.5403\n",
      "Epoch 14/150\n",
      "1219/1219 [==============================] - 3s 3ms/step - loss: 0.5594 - mean_squared_error: 0.5594 - val_loss: 0.5404 - val_mean_squared_error: 0.5404\n",
      "Epoch 15/150\n",
      "1219/1219 [==============================] - 3s 3ms/step - loss: 0.5593 - mean_squared_error: 0.5593 - val_loss: 0.5402 - val_mean_squared_error: 0.5402\n",
      "Epoch 16/150\n",
      "1219/1219 [==============================] - 3s 2ms/step - loss: 0.5593 - mean_squared_error: 0.5593 - val_loss: 0.5404 - val_mean_squared_error: 0.5404\n",
      "Epoch 17/150\n",
      "1219/1219 [==============================] - 3s 2ms/step - loss: 0.5593 - mean_squared_error: 0.5593 - val_loss: 0.5402 - val_mean_squared_error: 0.5402\n",
      "Epoch 18/150\n",
      "1219/1219 [==============================] - 3s 3ms/step - loss: 0.5592 - mean_squared_error: 0.5592 - val_loss: 0.5401 - val_mean_squared_error: 0.5401\n",
      "Epoch 19/150\n",
      "1219/1219 [==============================] - 3s 3ms/step - loss: 0.5592 - mean_squared_error: 0.5592 - val_loss: 0.5401 - val_mean_squared_error: 0.5401\n",
      "Epoch 20/150\n",
      "1219/1219 [==============================] - 3s 3ms/step - loss: 0.5592 - mean_squared_error: 0.5592 - val_loss: 0.5401 - val_mean_squared_error: 0.5401\n",
      "Epoch 21/150\n",
      "1219/1219 [==============================] - 3s 3ms/step - loss: 0.5592 - mean_squared_error: 0.5592 - val_loss: 0.5401 - val_mean_squared_error: 0.5401\n",
      "Epoch 22/150\n",
      "1219/1219 [==============================] - 3s 2ms/step - loss: 0.5591 - mean_squared_error: 0.5591 - val_loss: 0.5401 - val_mean_squared_error: 0.5401\n",
      "Epoch 23/150\n",
      "1219/1219 [==============================] - 3s 2ms/step - loss: 0.5591 - mean_squared_error: 0.5591 - val_loss: 0.5401 - val_mean_squared_error: 0.5401\n",
      "Epoch 24/150\n",
      "1219/1219 [==============================] - 3s 2ms/step - loss: 0.5591 - mean_squared_error: 0.5591 - val_loss: 0.5400 - val_mean_squared_error: 0.5400\n",
      "Epoch 25/150\n",
      "1219/1219 [==============================] - 3s 2ms/step - loss: 0.5591 - mean_squared_error: 0.5591 - val_loss: 0.5400 - val_mean_squared_error: 0.5400\n",
      "Epoch 26/150\n",
      "1219/1219 [==============================] - 3s 3ms/step - loss: 0.5591 - mean_squared_error: 0.5591 - val_loss: 0.5400 - val_mean_squared_error: 0.5400\n",
      "Epoch 27/150\n",
      "1219/1219 [==============================] - 3s 2ms/step - loss: 0.5591 - mean_squared_error: 0.5591 - val_loss: 0.5400 - val_mean_squared_error: 0.5400\n",
      "Epoch 28/150\n",
      "1219/1219 [==============================] - 3s 2ms/step - loss: 0.5590 - mean_squared_error: 0.5590 - val_loss: 0.5400 - val_mean_squared_error: 0.5400\n",
      "Epoch 29/150\n",
      "1219/1219 [==============================] - 3s 2ms/step - loss: 0.5590 - mean_squared_error: 0.5590 - val_loss: 0.5400 - val_mean_squared_error: 0.5400\n",
      "Epoch 30/150\n",
      "1219/1219 [==============================] - 3s 2ms/step - loss: 0.5590 - mean_squared_error: 0.5590 - val_loss: 0.5400 - val_mean_squared_error: 0.5400\n",
      "Epoch 31/150\n",
      "1219/1219 [==============================] - 3s 2ms/step - loss: 0.5590 - mean_squared_error: 0.5590 - val_loss: 0.5400 - val_mean_squared_error: 0.5400\n",
      "Epoch 32/150\n",
      "1219/1219 [==============================] - 3s 3ms/step - loss: 0.5590 - mean_squared_error: 0.5590 - val_loss: 0.5401 - val_mean_squared_error: 0.5401\n",
      "Epoch 33/150\n",
      "1219/1219 [==============================] - 3s 3ms/step - loss: 0.5590 - mean_squared_error: 0.5590 - val_loss: 0.5400 - val_mean_squared_error: 0.5400\n",
      "Epoch 34/150\n",
      "1219/1219 [==============================] - 3s 2ms/step - loss: 0.5590 - mean_squared_error: 0.5590 - val_loss: 0.5404 - val_mean_squared_error: 0.5404\n",
      "Epoch 35/150\n",
      "1219/1219 [==============================] - 3s 3ms/step - loss: 0.5590 - mean_squared_error: 0.5590 - val_loss: 0.5399 - val_mean_squared_error: 0.5399\n",
      "Epoch 36/150\n",
      "1219/1219 [==============================] - 3s 2ms/step - loss: 0.5590 - mean_squared_error: 0.5590 - val_loss: 0.5401 - val_mean_squared_error: 0.5401\n",
      "Epoch 37/150\n",
      "1219/1219 [==============================] - 3s 3ms/step - loss: 0.5590 - mean_squared_error: 0.5590 - val_loss: 0.5400 - val_mean_squared_error: 0.5400\n",
      "Epoch 38/150\n",
      "1219/1219 [==============================] - 4s 3ms/step - loss: 0.5590 - mean_squared_error: 0.5590 - val_loss: 0.5399 - val_mean_squared_error: 0.5399\n",
      "Epoch 39/150\n",
      "1219/1219 [==============================] - 3s 2ms/step - loss: 0.5590 - mean_squared_error: 0.5590 - val_loss: 0.5400 - val_mean_squared_error: 0.5400\n",
      "Epoch 40/150\n",
      "1219/1219 [==============================] - 3s 3ms/step - loss: 0.5590 - mean_squared_error: 0.5590 - val_loss: 0.5401 - val_mean_squared_error: 0.5401\n",
      "Epoch 41/150\n",
      "1219/1219 [==============================] - 3s 3ms/step - loss: 0.5590 - mean_squared_error: 0.5590 - val_loss: 0.5399 - val_mean_squared_error: 0.5399\n",
      "Epoch 42/150\n",
      "1219/1219 [==============================] - 3s 2ms/step - loss: 0.5590 - mean_squared_error: 0.5590 - val_loss: 0.5400 - val_mean_squared_error: 0.5400\n",
      "Epoch 43/150\n",
      "1219/1219 [==============================] - 3s 2ms/step - loss: 0.5590 - mean_squared_error: 0.5590 - val_loss: 0.5402 - val_mean_squared_error: 0.5402\n",
      "Epoch 44/150\n",
      "1219/1219 [==============================] - 3s 2ms/step - loss: 0.5590 - mean_squared_error: 0.5590 - val_loss: 0.5399 - val_mean_squared_error: 0.5399\n",
      "Epoch 45/150\n",
      "1219/1219 [==============================] - 3s 3ms/step - loss: 0.5590 - mean_squared_error: 0.5590 - val_loss: 0.5399 - val_mean_squared_error: 0.5399\n",
      "Epoch 46/150\n",
      "1219/1219 [==============================] - 4s 3ms/step - loss: 0.5590 - mean_squared_error: 0.5590 - val_loss: 0.5400 - val_mean_squared_error: 0.5400\n",
      "Epoch 47/150\n",
      "1219/1219 [==============================] - 3s 3ms/step - loss: 0.5590 - mean_squared_error: 0.5590 - val_loss: 0.5399 - val_mean_squared_error: 0.5399\n",
      "Epoch 48/150\n",
      "1219/1219 [==============================] - 3s 3ms/step - loss: 0.5589 - mean_squared_error: 0.5589 - val_loss: 0.5399 - val_mean_squared_error: 0.5399\n",
      "Epoch 49/150\n",
      "1219/1219 [==============================] - 4s 3ms/step - loss: 0.5590 - mean_squared_error: 0.5590 - val_loss: 0.5399 - val_mean_squared_error: 0.5399\n",
      "Epoch 50/150\n"
     ]
    },
    {
     "name": "stdout",
     "output_type": "stream",
     "text": [
      "1219/1219 [==============================] - 3s 3ms/step - loss: 0.5590 - mean_squared_error: 0.5590 - val_loss: 0.5399 - val_mean_squared_error: 0.5399\n",
      "Epoch 51/150\n",
      "1219/1219 [==============================] - 3s 3ms/step - loss: 0.5589 - mean_squared_error: 0.5589 - val_loss: 0.5399 - val_mean_squared_error: 0.5399\n",
      "Epoch 52/150\n",
      "1219/1219 [==============================] - 3s 2ms/step - loss: 0.5589 - mean_squared_error: 0.5589 - val_loss: 0.5399 - val_mean_squared_error: 0.5399\n",
      "Epoch 53/150\n",
      "1219/1219 [==============================] - 3s 2ms/step - loss: 0.5589 - mean_squared_error: 0.5589 - val_loss: 0.5402 - val_mean_squared_error: 0.5402\n",
      "Epoch 54/150\n",
      "1219/1219 [==============================] - 3s 2ms/step - loss: 0.5589 - mean_squared_error: 0.5589 - val_loss: 0.5399 - val_mean_squared_error: 0.5399\n",
      "Epoch 55/150\n",
      "1219/1219 [==============================] - 3s 2ms/step - loss: 0.5589 - mean_squared_error: 0.5589 - val_loss: 0.5399 - val_mean_squared_error: 0.5399\n",
      "Epoch 56/150\n",
      "1219/1219 [==============================] - 3s 2ms/step - loss: 0.5589 - mean_squared_error: 0.5589 - val_loss: 0.5399 - val_mean_squared_error: 0.5399\n",
      "Epoch 57/150\n",
      "1219/1219 [==============================] - 3s 3ms/step - loss: 0.5590 - mean_squared_error: 0.5590 - val_loss: 0.5399 - val_mean_squared_error: 0.5399\n",
      "Epoch 58/150\n",
      "1219/1219 [==============================] - 3s 2ms/step - loss: 0.5589 - mean_squared_error: 0.5589 - val_loss: 0.5400 - val_mean_squared_error: 0.5400\n",
      "Epoch 59/150\n",
      "1219/1219 [==============================] - 3s 2ms/step - loss: 0.5589 - mean_squared_error: 0.5589 - val_loss: 0.5400 - val_mean_squared_error: 0.5400\n",
      "Epoch 60/150\n",
      "1219/1219 [==============================] - 3s 2ms/step - loss: 0.5589 - mean_squared_error: 0.5589 - val_loss: 0.5401 - val_mean_squared_error: 0.5401\n",
      "Epoch 61/150\n",
      "1219/1219 [==============================] - 3s 2ms/step - loss: 0.5589 - mean_squared_error: 0.5589 - val_loss: 0.5401 - val_mean_squared_error: 0.5401\n",
      "Epoch 62/150\n",
      "1219/1219 [==============================] - 3s 3ms/step - loss: 0.5589 - mean_squared_error: 0.5589 - val_loss: 0.5400 - val_mean_squared_error: 0.5400\n",
      "Epoch 63/150\n",
      "1219/1219 [==============================] - 3s 2ms/step - loss: 0.5589 - mean_squared_error: 0.5589 - val_loss: 0.5399 - val_mean_squared_error: 0.5399\n",
      "Epoch 64/150\n",
      "1219/1219 [==============================] - 3s 3ms/step - loss: 0.5589 - mean_squared_error: 0.5589 - val_loss: 0.5400 - val_mean_squared_error: 0.5400\n",
      "Epoch 65/150\n",
      "1219/1219 [==============================] - 3s 3ms/step - loss: 0.5589 - mean_squared_error: 0.5589 - val_loss: 0.5399 - val_mean_squared_error: 0.5399\n",
      "Epoch 66/150\n",
      "1219/1219 [==============================] - 4s 3ms/step - loss: 0.5589 - mean_squared_error: 0.5589 - val_loss: 0.5399 - val_mean_squared_error: 0.5399\n",
      "Epoch 67/150\n",
      "1219/1219 [==============================] - 3s 3ms/step - loss: 0.5589 - mean_squared_error: 0.5589 - val_loss: 0.5403 - val_mean_squared_error: 0.5403\n",
      "Epoch 68/150\n",
      "1219/1219 [==============================] - 3s 3ms/step - loss: 0.5589 - mean_squared_error: 0.5589 - val_loss: 0.5400 - val_mean_squared_error: 0.5400\n",
      "Epoch 69/150\n",
      "1219/1219 [==============================] - 3s 2ms/step - loss: 0.5589 - mean_squared_error: 0.5589 - val_loss: 0.5399 - val_mean_squared_error: 0.5399\n",
      "Epoch 70/150\n",
      "1219/1219 [==============================] - 3s 2ms/step - loss: 0.5589 - mean_squared_error: 0.5589 - val_loss: 0.5400 - val_mean_squared_error: 0.5400\n",
      "Epoch 71/150\n",
      "1219/1219 [==============================] - 3s 3ms/step - loss: 0.5589 - mean_squared_error: 0.5589 - val_loss: 0.5401 - val_mean_squared_error: 0.5401\n",
      "Epoch 72/150\n",
      "1219/1219 [==============================] - 3s 3ms/step - loss: 0.5589 - mean_squared_error: 0.5589 - val_loss: 0.5400 - val_mean_squared_error: 0.5400\n",
      "Epoch 73/150\n",
      "1219/1219 [==============================] - 3s 2ms/step - loss: 0.5590 - mean_squared_error: 0.5590 - val_loss: 0.5401 - val_mean_squared_error: 0.5401\n",
      "Epoch 74/150\n",
      "1219/1219 [==============================] - 3s 2ms/step - loss: 0.5589 - mean_squared_error: 0.5589 - val_loss: 0.5399 - val_mean_squared_error: 0.5399\n",
      "Epoch 75/150\n",
      "1219/1219 [==============================] - 3s 2ms/step - loss: 0.5589 - mean_squared_error: 0.5589 - val_loss: 0.5399 - val_mean_squared_error: 0.5399\n",
      "Epoch 76/150\n",
      "1219/1219 [==============================] - 3s 3ms/step - loss: 0.5589 - mean_squared_error: 0.5589 - val_loss: 0.5399 - val_mean_squared_error: 0.5399\n",
      "Epoch 77/150\n",
      "1219/1219 [==============================] - 3s 2ms/step - loss: 0.5589 - mean_squared_error: 0.5589 - val_loss: 0.5400 - val_mean_squared_error: 0.5400\n",
      "Epoch 78/150\n",
      "1219/1219 [==============================] - 3s 2ms/step - loss: 0.5589 - mean_squared_error: 0.5589 - val_loss: 0.5399 - val_mean_squared_error: 0.5399\n",
      "Epoch 79/150\n",
      "1219/1219 [==============================] - 3s 3ms/step - loss: 0.5589 - mean_squared_error: 0.5589 - val_loss: 0.5399 - val_mean_squared_error: 0.5399\n",
      "Epoch 80/150\n",
      "1219/1219 [==============================] - 3s 3ms/step - loss: 0.5589 - mean_squared_error: 0.5589 - val_loss: 0.5399 - val_mean_squared_error: 0.5399\n",
      "Epoch 81/150\n",
      "1219/1219 [==============================] - 3s 3ms/step - loss: 0.5589 - mean_squared_error: 0.5589 - val_loss: 0.5399 - val_mean_squared_error: 0.5399\n",
      "Epoch 82/150\n",
      "1219/1219 [==============================] - 3s 2ms/step - loss: 0.5589 - mean_squared_error: 0.5589 - val_loss: 0.5402 - val_mean_squared_error: 0.5402\n",
      "Epoch 83/150\n",
      "1219/1219 [==============================] - 3s 3ms/step - loss: 0.5589 - mean_squared_error: 0.5589 - val_loss: 0.5399 - val_mean_squared_error: 0.5399\n",
      "Epoch 84/150\n",
      "1219/1219 [==============================] - 3s 3ms/step - loss: 0.5589 - mean_squared_error: 0.5589 - val_loss: 0.5400 - val_mean_squared_error: 0.5400\n",
      "Epoch 85/150\n",
      "1219/1219 [==============================] - 3s 3ms/step - loss: 0.5589 - mean_squared_error: 0.5589 - val_loss: 0.5398 - val_mean_squared_error: 0.5398\n",
      "Epoch 86/150\n",
      "1219/1219 [==============================] - 3s 2ms/step - loss: 0.5589 - mean_squared_error: 0.5589 - val_loss: 0.5399 - val_mean_squared_error: 0.5399\n",
      "Epoch 87/150\n",
      "1219/1219 [==============================] - 3s 2ms/step - loss: 0.5589 - mean_squared_error: 0.5589 - val_loss: 0.5399 - val_mean_squared_error: 0.5399\n",
      "Epoch 88/150\n",
      "1219/1219 [==============================] - 3s 2ms/step - loss: 0.5589 - mean_squared_error: 0.5589 - val_loss: 0.5398 - val_mean_squared_error: 0.5398\n",
      "Epoch 89/150\n",
      "1219/1219 [==============================] - 3s 3ms/step - loss: 0.5589 - mean_squared_error: 0.5589 - val_loss: 0.5399 - val_mean_squared_error: 0.5399\n",
      "Epoch 90/150\n",
      "1219/1219 [==============================] - 3s 3ms/step - loss: 0.5589 - mean_squared_error: 0.5589 - val_loss: 0.5399 - val_mean_squared_error: 0.5399\n",
      "Epoch 91/150\n",
      "1219/1219 [==============================] - 3s 3ms/step - loss: 0.5589 - mean_squared_error: 0.5589 - val_loss: 0.5399 - val_mean_squared_error: 0.5399\n",
      "Epoch 92/150\n",
      "1219/1219 [==============================] - 3s 3ms/step - loss: 0.5589 - mean_squared_error: 0.5589 - val_loss: 0.5399 - val_mean_squared_error: 0.5399\n",
      "Epoch 93/150\n",
      "1219/1219 [==============================] - 3s 3ms/step - loss: 0.5589 - mean_squared_error: 0.5589 - val_loss: 0.5399 - val_mean_squared_error: 0.5399\n",
      "Epoch 94/150\n",
      "1219/1219 [==============================] - 3s 3ms/step - loss: 0.5589 - mean_squared_error: 0.5589 - val_loss: 0.5399 - val_mean_squared_error: 0.5399\n",
      "Epoch 95/150\n",
      "1219/1219 [==============================] - 3s 3ms/step - loss: 0.5589 - mean_squared_error: 0.5589 - val_loss: 0.5399 - val_mean_squared_error: 0.5399\n",
      "Epoch 96/150\n",
      "1219/1219 [==============================] - 3s 3ms/step - loss: 0.5589 - mean_squared_error: 0.5589 - val_loss: 0.5399 - val_mean_squared_error: 0.5399\n",
      "Epoch 97/150\n",
      "1219/1219 [==============================] - 3s 3ms/step - loss: 0.5589 - mean_squared_error: 0.5589 - val_loss: 0.5399 - val_mean_squared_error: 0.5399\n",
      "Epoch 98/150\n",
      "1219/1219 [==============================] - 3s 3ms/step - loss: 0.5589 - mean_squared_error: 0.5589 - val_loss: 0.5399 - val_mean_squared_error: 0.5399\n",
      "Epoch 99/150\n"
     ]
    },
    {
     "name": "stdout",
     "output_type": "stream",
     "text": [
      "1219/1219 [==============================] - 3s 2ms/step - loss: 0.5589 - mean_squared_error: 0.5589 - val_loss: 0.5399 - val_mean_squared_error: 0.5399\n",
      "Epoch 100/150\n",
      "1219/1219 [==============================] - 3s 2ms/step - loss: 0.5589 - mean_squared_error: 0.5589 - val_loss: 0.5399 - val_mean_squared_error: 0.5399\n",
      "Epoch 101/150\n",
      "1219/1219 [==============================] - 3s 2ms/step - loss: 0.5589 - mean_squared_error: 0.5589 - val_loss: 0.5398 - val_mean_squared_error: 0.5398\n",
      "Epoch 102/150\n",
      "1219/1219 [==============================] - 3s 2ms/step - loss: 0.5589 - mean_squared_error: 0.5589 - val_loss: 0.5399 - val_mean_squared_error: 0.5399\n",
      "Epoch 103/150\n",
      "1219/1219 [==============================] - 3s 2ms/step - loss: 0.5589 - mean_squared_error: 0.5589 - val_loss: 0.5398 - val_mean_squared_error: 0.5398\n",
      "Epoch 104/150\n",
      "1219/1219 [==============================] - 3s 2ms/step - loss: 0.5589 - mean_squared_error: 0.5589 - val_loss: 0.5400 - val_mean_squared_error: 0.5400\n",
      "Epoch 105/150\n",
      "1219/1219 [==============================] - 3s 2ms/step - loss: 0.5590 - mean_squared_error: 0.5590 - val_loss: 0.5399 - val_mean_squared_error: 0.5399\n",
      "Epoch 106/150\n",
      "1219/1219 [==============================] - 3s 2ms/step - loss: 0.5589 - mean_squared_error: 0.5589 - val_loss: 0.5399 - val_mean_squared_error: 0.5399\n",
      "Epoch 107/150\n",
      "1219/1219 [==============================] - 3s 2ms/step - loss: 0.5589 - mean_squared_error: 0.5589 - val_loss: 0.5399 - val_mean_squared_error: 0.5399\n",
      "Epoch 108/150\n",
      "1219/1219 [==============================] - 3s 2ms/step - loss: 0.5589 - mean_squared_error: 0.5589 - val_loss: 0.5399 - val_mean_squared_error: 0.5399\n",
      "Epoch 109/150\n",
      "1219/1219 [==============================] - 3s 2ms/step - loss: 0.5589 - mean_squared_error: 0.5589 - val_loss: 0.5399 - val_mean_squared_error: 0.5399\n",
      "Epoch 110/150\n",
      "1219/1219 [==============================] - 3s 2ms/step - loss: 0.5589 - mean_squared_error: 0.5589 - val_loss: 0.5400 - val_mean_squared_error: 0.5400\n",
      "Epoch 111/150\n",
      "1219/1219 [==============================] - 3s 2ms/step - loss: 0.5589 - mean_squared_error: 0.5589 - val_loss: 0.5399 - val_mean_squared_error: 0.5399\n",
      "Epoch 112/150\n",
      "1219/1219 [==============================] - 3s 2ms/step - loss: 0.5589 - mean_squared_error: 0.5589 - val_loss: 0.5399 - val_mean_squared_error: 0.5399\n",
      "Epoch 113/150\n",
      "1219/1219 [==============================] - 3s 2ms/step - loss: 0.5589 - mean_squared_error: 0.5589 - val_loss: 0.5399 - val_mean_squared_error: 0.5399\n",
      "Epoch 114/150\n",
      "1219/1219 [==============================] - 3s 2ms/step - loss: 0.5589 - mean_squared_error: 0.5589 - val_loss: 0.5399 - val_mean_squared_error: 0.5399\n",
      "Epoch 115/150\n",
      "1219/1219 [==============================] - 3s 2ms/step - loss: 0.5589 - mean_squared_error: 0.5589 - val_loss: 0.5398 - val_mean_squared_error: 0.5398\n",
      "Epoch 116/150\n",
      "1219/1219 [==============================] - 3s 2ms/step - loss: 0.5589 - mean_squared_error: 0.5589 - val_loss: 0.5399 - val_mean_squared_error: 0.5399\n",
      "Epoch 117/150\n",
      "1219/1219 [==============================] - 3s 2ms/step - loss: 0.5589 - mean_squared_error: 0.5589 - val_loss: 0.5398 - val_mean_squared_error: 0.5398\n",
      "Epoch 118/150\n",
      "1219/1219 [==============================] - 3s 2ms/step - loss: 0.5589 - mean_squared_error: 0.5589 - val_loss: 0.5402 - val_mean_squared_error: 0.5402\n",
      "Epoch 119/150\n",
      "1219/1219 [==============================] - 3s 2ms/step - loss: 0.5589 - mean_squared_error: 0.5589 - val_loss: 0.5399 - val_mean_squared_error: 0.5399\n",
      "Epoch 120/150\n",
      "1219/1219 [==============================] - 3s 2ms/step - loss: 0.5589 - mean_squared_error: 0.5589 - val_loss: 0.5399 - val_mean_squared_error: 0.5399\n",
      "Epoch 121/150\n",
      "1219/1219 [==============================] - 3s 2ms/step - loss: 0.5589 - mean_squared_error: 0.5589 - val_loss: 0.5399 - val_mean_squared_error: 0.5399\n",
      "Epoch 122/150\n",
      "1219/1219 [==============================] - 3s 2ms/step - loss: 0.5589 - mean_squared_error: 0.5589 - val_loss: 0.5399 - val_mean_squared_error: 0.5399\n",
      "Epoch 123/150\n",
      "1219/1219 [==============================] - 3s 2ms/step - loss: 0.5589 - mean_squared_error: 0.5589 - val_loss: 0.5399 - val_mean_squared_error: 0.5399\n",
      "Epoch 124/150\n",
      "1219/1219 [==============================] - 3s 2ms/step - loss: 0.5589 - mean_squared_error: 0.5589 - val_loss: 0.5399 - val_mean_squared_error: 0.5399\n",
      "Epoch 125/150\n",
      "1219/1219 [==============================] - 3s 2ms/step - loss: 0.5589 - mean_squared_error: 0.5589 - val_loss: 0.5400 - val_mean_squared_error: 0.5400\n",
      "Epoch 126/150\n",
      "1219/1219 [==============================] - 3s 2ms/step - loss: 0.5589 - mean_squared_error: 0.5589 - val_loss: 0.5401 - val_mean_squared_error: 0.5401\n",
      "Epoch 127/150\n",
      "1219/1219 [==============================] - 3s 2ms/step - loss: 0.5589 - mean_squared_error: 0.5589 - val_loss: 0.5400 - val_mean_squared_error: 0.5400\n",
      "Epoch 128/150\n",
      "1219/1219 [==============================] - 3s 2ms/step - loss: 0.5589 - mean_squared_error: 0.5589 - val_loss: 0.5399 - val_mean_squared_error: 0.5399\n",
      "Epoch 129/150\n",
      "1219/1219 [==============================] - 3s 2ms/step - loss: 0.5589 - mean_squared_error: 0.5589 - val_loss: 0.5398 - val_mean_squared_error: 0.5398\n",
      "Epoch 130/150\n",
      "1219/1219 [==============================] - 3s 2ms/step - loss: 0.5589 - mean_squared_error: 0.5589 - val_loss: 0.5399 - val_mean_squared_error: 0.5399\n",
      "Epoch 131/150\n",
      "1219/1219 [==============================] - 3s 2ms/step - loss: 0.5589 - mean_squared_error: 0.5589 - val_loss: 0.5399 - val_mean_squared_error: 0.5399\n",
      "Epoch 132/150\n",
      "1219/1219 [==============================] - 3s 2ms/step - loss: 0.5589 - mean_squared_error: 0.5589 - val_loss: 0.5399 - val_mean_squared_error: 0.5399\n",
      "Epoch 133/150\n",
      "1219/1219 [==============================] - 3s 2ms/step - loss: 0.5589 - mean_squared_error: 0.5589 - val_loss: 0.5398 - val_mean_squared_error: 0.5398\n",
      "Epoch 134/150\n",
      "1219/1219 [==============================] - 2s 1ms/step - loss: 0.5589 - mean_squared_error: 0.5589 - val_loss: 0.5399 - val_mean_squared_error: 0.5399\n",
      "Epoch 135/150\n",
      "1219/1219 [==============================] - 2s 2ms/step - loss: 0.5589 - mean_squared_error: 0.5589 - val_loss: 0.5399 - val_mean_squared_error: 0.5399\n",
      "Epoch 136/150\n",
      "1219/1219 [==============================] - 3s 2ms/step - loss: 0.5589 - mean_squared_error: 0.5589 - val_loss: 0.5399 - val_mean_squared_error: 0.5399\n",
      "Epoch 137/150\n",
      "1219/1219 [==============================] - 3s 2ms/step - loss: 0.5588 - mean_squared_error: 0.5588 - val_loss: 0.5398 - val_mean_squared_error: 0.5398\n",
      "Epoch 138/150\n",
      "1219/1219 [==============================] - 3s 2ms/step - loss: 0.5589 - mean_squared_error: 0.5589 - val_loss: 0.5399 - val_mean_squared_error: 0.5399\n",
      "Epoch 139/150\n",
      "1219/1219 [==============================] - 3s 2ms/step - loss: 0.5588 - mean_squared_error: 0.5588 - val_loss: 0.5400 - val_mean_squared_error: 0.5400\n",
      "Epoch 140/150\n",
      "1219/1219 [==============================] - 3s 2ms/step - loss: 0.5589 - mean_squared_error: 0.5589 - val_loss: 0.5398 - val_mean_squared_error: 0.5398\n",
      "Epoch 141/150\n",
      "1219/1219 [==============================] - 3s 3ms/step - loss: 0.5589 - mean_squared_error: 0.5589 - val_loss: 0.5399 - val_mean_squared_error: 0.5399\n",
      "Epoch 142/150\n",
      "1219/1219 [==============================] - 4s 3ms/step - loss: 0.5588 - mean_squared_error: 0.5588 - val_loss: 0.5399 - val_mean_squared_error: 0.5399\n",
      "Epoch 143/150\n",
      "1219/1219 [==============================] - 3s 3ms/step - loss: 0.5589 - mean_squared_error: 0.5589 - val_loss: 0.5399 - val_mean_squared_error: 0.5399\n",
      "Epoch 144/150\n",
      "1219/1219 [==============================] - 3s 3ms/step - loss: 0.5589 - mean_squared_error: 0.5589 - val_loss: 0.5399 - val_mean_squared_error: 0.5399\n",
      "Epoch 145/150\n",
      "1219/1219 [==============================] - 3s 3ms/step - loss: 0.5589 - mean_squared_error: 0.5589 - val_loss: 0.5398 - val_mean_squared_error: 0.5398\n",
      "Epoch 146/150\n",
      "1219/1219 [==============================] - 3s 3ms/step - loss: 0.5589 - mean_squared_error: 0.5589 - val_loss: 0.5399 - val_mean_squared_error: 0.5399\n",
      "Epoch 147/150\n",
      "1219/1219 [==============================] - 3s 3ms/step - loss: 0.5589 - mean_squared_error: 0.5589 - val_loss: 0.5400 - val_mean_squared_error: 0.5400\n",
      "Epoch 148/150\n"
     ]
    },
    {
     "name": "stdout",
     "output_type": "stream",
     "text": [
      "1219/1219 [==============================] - 3s 2ms/step - loss: 0.5589 - mean_squared_error: 0.5589 - val_loss: 0.5399 - val_mean_squared_error: 0.5399\n",
      "Epoch 149/150\n",
      "1219/1219 [==============================] - 3s 2ms/step - loss: 0.5589 - mean_squared_error: 0.5589 - val_loss: 0.5399 - val_mean_squared_error: 0.5399\n",
      "Epoch 150/150\n",
      "1219/1219 [==============================] - 3s 2ms/step - loss: 0.5589 - mean_squared_error: 0.5589 - val_loss: 0.5399 - val_mean_squared_error: 0.5399\n"
     ]
    }
   ],
   "source": [
    "#fit the keras model in dataset\n",
    "history=model.fit(X_train_scaled, y_train,epochs=150,validation_split=0.1,batch_size=10)"
   ]
  },
  {
   "cell_type": "code",
   "execution_count": 18,
   "id": "2a8ff54e",
   "metadata": {
    "ExecuteTime": {
     "end_time": "2023-04-26T05:04:03.236307Z",
     "start_time": "2023-04-26T05:04:02.987898Z"
    }
   },
   "outputs": [
    {
     "name": "stdout",
     "output_type": "stream",
     "text": [
      "47/47 [==============================] - 0s 2ms/step - loss: 0.5650 - mean_squared_error: 0.5650\n"
     ]
    }
   ],
   "source": [
    "test_loss, mean_squared_error = model.evaluate(X_test_scaled, y_test)"
   ]
  },
  {
   "cell_type": "code",
   "execution_count": 19,
   "id": "5d6b643a",
   "metadata": {
    "ExecuteTime": {
     "end_time": "2023-04-26T05:04:26.479086Z",
     "start_time": "2023-04-26T05:04:26.470376Z"
    }
   },
   "outputs": [
    {
     "name": "stdout",
     "output_type": "stream",
     "text": [
      "dict_keys(['loss', 'mean_squared_error', 'val_loss', 'val_mean_squared_error'])\n"
     ]
    }
   ],
   "source": [
    "#list all data in history\n",
    "print(history.history.keys())"
   ]
  },
  {
   "cell_type": "code",
   "execution_count": 20,
   "id": "b2414f2b",
   "metadata": {
    "ExecuteTime": {
     "end_time": "2023-04-26T05:04:47.019229Z",
     "start_time": "2023-04-26T05:04:45.591688Z"
    }
   },
   "outputs": [
    {
     "data": {
      "image/png": "[encoded data removed]",
      "text/plain": [
       "<Figure size 432x288 with 1 Axes>"
      ]
     },
     "metadata": {
      "needs_background": "light"
     },
     "output_type": "display_data"
    }
   ],
   "source": [
    "#Sumarize History for accuracy\n",
    "import matplotlib.pyplot as plt\n",
    "plt.plot(history.history['mean_squared_error'])\n",
    "plt.plot(history.history['val_mean_squared_error'])\n",
    "plt.ylabel(\"mean_squared_error\")\n",
    "plt.xlabel(\"epoch\")\n",
    "plt.legend(['train','test'],loc='upper left')\n",
    "plt.show()\n"
   ]
  },
  {
   "cell_type": "code",
   "execution_count": 21,
   "id": "98346027",
   "metadata": {
    "ExecuteTime": {
     "end_time": "2023-04-26T05:05:17.679160Z",
     "start_time": "2023-04-26T05:05:17.392469Z"
    }
   },
   "outputs": [
    {
     "data": {
      "image/png": "[encoded data removed]",
      "text/plain": [
       "<Figure size 432x288 with 1 Axes>"
      ]
     },
     "metadata": {
      "needs_background": "light"
     },
     "output_type": "display_data"
    }
   ],
   "source": [
    "#Sumarize history for loss\n",
    "import matplotlib.pyplot as plt\n",
    "plt.plot(history.history['loss'])\n",
    "plt.plot(history.history['val_loss'])\n",
    "plt.title(\"model loss\")\n",
    "plt.ylabel(\"loss\")\n",
    "plt.xlabel(\"epoch\")\n",
    "plt.legend(['train','test'],loc='upper left')\n",
    "plt.show()"
   ]
  },
  {
   "cell_type": "code",
   "execution_count": null,
   "id": "953352c7",
   "metadata": {},
   "outputs": [],
   "source": []
  }
 ],
 "metadata": {
  "kernelspec": {
   "display_name": "Python 3 (ipykernel)",
   "language": "python",
   "name": "python3"
  },
  "language_info": {
   "codemirror_mode": {
    "name": "ipython",
    "version": 3
   },
   "file_extension": ".py",
   "mimetype": "text/x-python",
   "name": "python",
   "nbconvert_exporter": "python",
   "pygments_lexer": "ipython3",
   "version": "3.9.12"
  }
 },
 "nbformat": 4,
 "nbformat_minor": 5
}
